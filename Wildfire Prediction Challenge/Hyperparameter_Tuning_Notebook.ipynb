{
 "cells": [
  {
   "cell_type": "markdown",
   "metadata": {
    "id": "9owHpJecwq7g"
   },
   "source": [
    "# Fighting Fire with Data - Starter Notebook\n",
    "\n",
    "This notebook should help you get started with the 'Fighting Fire with Data' hackathon on Zindi. In it we cover:\n",
    "- Loading the data\n",
    "- Simple EDA and an example of feature enginnering\n",
    "- Suggestions for validation split\n",
    "- Creating a simple model\n",
    "- Making a submission\n",
    "- Some tips for improving your score\n"
   ]
  },
  {
   "cell_type": "markdown",
   "metadata": {
    "id": "xKcJuq7bxof_"
   },
   "source": [
    "# Setup\n",
    "\n",
    "Make sure the files are available in the current directory. On Colab, upload them using the files tab on the left."
   ]
  },
  {
   "cell_type": "code",
   "execution_count": 1,
   "metadata": {
    "colab": {
     "base_uri": "https://localhost:8080/"
    },
    "id": "lwa4zIHBGh41",
    "outputId": "20decafc-8e1a-4f0c-a6d6-4880d3e12ea7"
   },
   "outputs": [
    {
     "name": "stderr",
     "output_type": "stream",
     "text": [
      "'ls' is not recognized as an internal or external command,\n",
      "operable program or batch file.\n"
     ]
    }
   ],
   "source": [
    "!ls *.csv # List files to check train, ss and test are present"
   ]
  },
  {
   "cell_type": "code",
   "execution_count": 2,
   "metadata": {
    "id": "2lLzfdilxfsY"
   },
   "outputs": [],
   "source": [
    "import pandas as pd\n",
    "from sklearn.linear_model import RidgeCV\n",
    "from sklearn.ensemble import RandomForestRegressor\n",
    "from sklearn.metrics import mean_squared_error, r2_score\n",
    "from matplotlib import pyplot as plt"
   ]
  },
  {
   "cell_type": "code",
   "execution_count": 3,
   "metadata": {
    "colab": {
     "base_uri": "https://localhost:8080/",
     "height": 1000
    },
    "id": "_xLOsPcFSwOz",
    "outputId": "cf36a840-7b4d-4dcc-b927-9648917ba8e6"
   },
   "outputs": [
    {
     "data": {
      "text/html": [
       "<div>\n",
       "<style scoped>\n",
       "    .dataframe tbody tr th:only-of-type {\n",
       "        vertical-align: middle;\n",
       "    }\n",
       "\n",
       "    .dataframe tbody tr th {\n",
       "        vertical-align: top;\n",
       "    }\n",
       "\n",
       "    .dataframe thead th {\n",
       "        text-align: right;\n",
       "    }\n",
       "</style>\n",
       "<table border=\"1\" class=\"dataframe\">\n",
       "  <thead>\n",
       "    <tr style=\"text-align: right;\">\n",
       "      <th></th>\n",
       "      <th>Variable</th>\n",
       "      <th>Description</th>\n",
       "    </tr>\n",
       "  </thead>\n",
       "  <tbody>\n",
       "    <tr>\n",
       "      <th>0</th>\n",
       "      <td>ID</td>\n",
       "      <td>The IDs take the form of [area ID]_yyyy-mm-dd....</td>\n",
       "    </tr>\n",
       "    <tr>\n",
       "      <th>1</th>\n",
       "      <td>area</td>\n",
       "      <td>Area ID</td>\n",
       "    </tr>\n",
       "    <tr>\n",
       "      <th>2</th>\n",
       "      <td>date</td>\n",
       "      <td>The date that the data is aggregated over</td>\n",
       "    </tr>\n",
       "    <tr>\n",
       "      <th>3</th>\n",
       "      <td>lat</td>\n",
       "      <td>Latitude of the center of the area</td>\n",
       "    </tr>\n",
       "    <tr>\n",
       "      <th>4</th>\n",
       "      <td>lon</td>\n",
       "      <td>Longitude of the center of the area</td>\n",
       "    </tr>\n",
       "    <tr>\n",
       "      <th>5</th>\n",
       "      <td>burn_area</td>\n",
       "      <td>Percentage of the area burnt</td>\n",
       "    </tr>\n",
       "    <tr>\n",
       "      <th>6</th>\n",
       "      <td>climate_aet</td>\n",
       "      <td>Actual evapotranspiration, derived using a one...</td>\n",
       "    </tr>\n",
       "    <tr>\n",
       "      <th>7</th>\n",
       "      <td>climate_def</td>\n",
       "      <td>Climate water deficit, derived using a one-dim...</td>\n",
       "    </tr>\n",
       "    <tr>\n",
       "      <th>8</th>\n",
       "      <td>climate_pdsi</td>\n",
       "      <td>Palmer Drought Severity Index</td>\n",
       "    </tr>\n",
       "    <tr>\n",
       "      <th>9</th>\n",
       "      <td>climate_pet</td>\n",
       "      <td>Reference evapotranspiration (ASCE Penman-Mont...</td>\n",
       "    </tr>\n",
       "    <tr>\n",
       "      <th>10</th>\n",
       "      <td>climate_pr</td>\n",
       "      <td>Precipitation accumulation</td>\n",
       "    </tr>\n",
       "    <tr>\n",
       "      <th>11</th>\n",
       "      <td>climate_ro</td>\n",
       "      <td>Runoff, derived using a one-dimensional soil w...</td>\n",
       "    </tr>\n",
       "    <tr>\n",
       "      <th>12</th>\n",
       "      <td>climate_soil</td>\n",
       "      <td>Soil moisture, derived using a one-dimensional...</td>\n",
       "    </tr>\n",
       "    <tr>\n",
       "      <th>13</th>\n",
       "      <td>climate_srad</td>\n",
       "      <td>Downward surface shortwave radiation</td>\n",
       "    </tr>\n",
       "    <tr>\n",
       "      <th>14</th>\n",
       "      <td>climate_swe</td>\n",
       "      <td>Snow water equivalent, derived using a one-dim...</td>\n",
       "    </tr>\n",
       "    <tr>\n",
       "      <th>15</th>\n",
       "      <td>climate_tmmn</td>\n",
       "      <td>Minimum temperature</td>\n",
       "    </tr>\n",
       "    <tr>\n",
       "      <th>16</th>\n",
       "      <td>climate_tmmx</td>\n",
       "      <td>Maximum temperature</td>\n",
       "    </tr>\n",
       "    <tr>\n",
       "      <th>17</th>\n",
       "      <td>climate_vap</td>\n",
       "      <td>Vapor pressure</td>\n",
       "    </tr>\n",
       "    <tr>\n",
       "      <th>18</th>\n",
       "      <td>climate_vpd</td>\n",
       "      <td>Vapor pressure deficit</td>\n",
       "    </tr>\n",
       "    <tr>\n",
       "      <th>19</th>\n",
       "      <td>climate_vs</td>\n",
       "      <td>Wind-speed at 10m</td>\n",
       "    </tr>\n",
       "    <tr>\n",
       "      <th>20</th>\n",
       "      <td>elevation</td>\n",
       "      <td>Land elevation</td>\n",
       "    </tr>\n",
       "    <tr>\n",
       "      <th>21</th>\n",
       "      <td>landcover_0</td>\n",
       "      <td>Water Bodies: at least 60% of area is covered ...</td>\n",
       "    </tr>\n",
       "    <tr>\n",
       "      <th>22</th>\n",
       "      <td>landcover_1</td>\n",
       "      <td>Evergreen Needleleaf Vegetation: dominated by ...</td>\n",
       "    </tr>\n",
       "    <tr>\n",
       "      <th>23</th>\n",
       "      <td>landcover_2</td>\n",
       "      <td>Evergreen Broadleaf Vegetation: dominated by e...</td>\n",
       "    </tr>\n",
       "    <tr>\n",
       "      <th>24</th>\n",
       "      <td>landcover_3</td>\n",
       "      <td>Deciduous Needleleaf Vegetation: dominated by ...</td>\n",
       "    </tr>\n",
       "    <tr>\n",
       "      <th>25</th>\n",
       "      <td>landcover_4</td>\n",
       "      <td>Deciduous Broadleaf Vegetation: dominated by d...</td>\n",
       "    </tr>\n",
       "    <tr>\n",
       "      <th>26</th>\n",
       "      <td>landcover_5</td>\n",
       "      <td>Annual Broadleaf Vegetation: dominated by herb...</td>\n",
       "    </tr>\n",
       "    <tr>\n",
       "      <th>27</th>\n",
       "      <td>landcover_6</td>\n",
       "      <td>Annual Grass Vegetation: dominated by herbaceo...</td>\n",
       "    </tr>\n",
       "    <tr>\n",
       "      <th>28</th>\n",
       "      <td>landcover_7</td>\n",
       "      <td>Non-Vegetated Lands: at least 60% of area is n...</td>\n",
       "    </tr>\n",
       "    <tr>\n",
       "      <th>29</th>\n",
       "      <td>landcover_8</td>\n",
       "      <td>Urban and Built-up Lands: at least 30% impervi...</td>\n",
       "    </tr>\n",
       "    <tr>\n",
       "      <th>30</th>\n",
       "      <td>precipitation</td>\n",
       "      <td>Merged microwave/IR precipitation estimate</td>\n",
       "    </tr>\n",
       "  </tbody>\n",
       "</table>\n",
       "</div>"
      ],
      "text/plain": [
       "         Variable                                        Description\n",
       "0              ID  The IDs take the form of [area ID]_yyyy-mm-dd....\n",
       "1            area                                            Area ID\n",
       "2            date          The date that the data is aggregated over\n",
       "3             lat                 Latitude of the center of the area\n",
       "4             lon                Longitude of the center of the area\n",
       "5       burn_area                       Percentage of the area burnt\n",
       "6     climate_aet  Actual evapotranspiration, derived using a one...\n",
       "7     climate_def  Climate water deficit, derived using a one-dim...\n",
       "8    climate_pdsi                      Palmer Drought Severity Index\n",
       "9     climate_pet  Reference evapotranspiration (ASCE Penman-Mont...\n",
       "10     climate_pr                         Precipitation accumulation\n",
       "11     climate_ro  Runoff, derived using a one-dimensional soil w...\n",
       "12   climate_soil  Soil moisture, derived using a one-dimensional...\n",
       "13   climate_srad               Downward surface shortwave radiation\n",
       "14    climate_swe  Snow water equivalent, derived using a one-dim...\n",
       "15   climate_tmmn                                Minimum temperature\n",
       "16   climate_tmmx                                Maximum temperature\n",
       "17    climate_vap                                     Vapor pressure\n",
       "18    climate_vpd                             Vapor pressure deficit\n",
       "19     climate_vs                                  Wind-speed at 10m\n",
       "20      elevation                                     Land elevation\n",
       "21    landcover_0  Water Bodies: at least 60% of area is covered ...\n",
       "22    landcover_1  Evergreen Needleleaf Vegetation: dominated by ...\n",
       "23    landcover_2  Evergreen Broadleaf Vegetation: dominated by e...\n",
       "24    landcover_3  Deciduous Needleleaf Vegetation: dominated by ...\n",
       "25    landcover_4  Deciduous Broadleaf Vegetation: dominated by d...\n",
       "26    landcover_5  Annual Broadleaf Vegetation: dominated by herb...\n",
       "27    landcover_6  Annual Grass Vegetation: dominated by herbaceo...\n",
       "28    landcover_7  Non-Vegetated Lands: at least 60% of area is n...\n",
       "29    landcover_8  Urban and Built-up Lands: at least 30% impervi...\n",
       "30  precipitation         Merged microwave/IR precipitation estimate"
      ]
     },
     "execution_count": 3,
     "metadata": {},
     "output_type": "execute_result"
    }
   ],
   "source": [
    "# The training data.\n",
    "var_defs = pd.read_csv(\"https://raw.githubusercontent.com/GKamundia/Zindi/main/variable_definitions.csv\")\n",
    "var_defs"
   ]
  },
  {
   "cell_type": "code",
   "execution_count": 4,
   "metadata": {
    "colab": {
     "base_uri": "https://localhost:8080/",
     "height": 342
    },
    "id": "uaQM7lJHxRoe",
    "outputId": "fa6bec5b-48cb-4539-cac7-4c6b02780937"
   },
   "outputs": [
    {
     "data": {
      "text/html": [
       "<div>\n",
       "<style scoped>\n",
       "    .dataframe tbody tr th:only-of-type {\n",
       "        vertical-align: middle;\n",
       "    }\n",
       "\n",
       "    .dataframe tbody tr th {\n",
       "        vertical-align: top;\n",
       "    }\n",
       "\n",
       "    .dataframe thead th {\n",
       "        text-align: right;\n",
       "    }\n",
       "</style>\n",
       "<table border=\"1\" class=\"dataframe\">\n",
       "  <thead>\n",
       "    <tr style=\"text-align: right;\">\n",
       "      <th></th>\n",
       "      <th>ID</th>\n",
       "      <th>lat</th>\n",
       "      <th>lon</th>\n",
       "      <th>burn_area</th>\n",
       "      <th>climate_aet</th>\n",
       "      <th>climate_def</th>\n",
       "      <th>climate_pdsi</th>\n",
       "      <th>climate_pet</th>\n",
       "      <th>climate_pr</th>\n",
       "      <th>climate_ro</th>\n",
       "      <th>...</th>\n",
       "      <th>landcover_0</th>\n",
       "      <th>landcover_1</th>\n",
       "      <th>landcover_2</th>\n",
       "      <th>landcover_3</th>\n",
       "      <th>landcover_4</th>\n",
       "      <th>landcover_5</th>\n",
       "      <th>landcover_6</th>\n",
       "      <th>landcover_7</th>\n",
       "      <th>landcover_8</th>\n",
       "      <th>precipitation</th>\n",
       "    </tr>\n",
       "  </thead>\n",
       "  <tbody>\n",
       "    <tr>\n",
       "      <th>0</th>\n",
       "      <td>0_2001-01-01</td>\n",
       "      <td>-15.858835</td>\n",
       "      <td>29.237029</td>\n",
       "      <td>0.0</td>\n",
       "      <td>1195</td>\n",
       "      <td>0</td>\n",
       "      <td>263</td>\n",
       "      <td>1195</td>\n",
       "      <td>206</td>\n",
       "      <td>10</td>\n",
       "      <td>...</td>\n",
       "      <td>0.0</td>\n",
       "      <td>0.0</td>\n",
       "      <td>0.018654</td>\n",
       "      <td>0.0</td>\n",
       "      <td>0.714446</td>\n",
       "      <td>0.012174</td>\n",
       "      <td>0.244890</td>\n",
       "      <td>0.009836</td>\n",
       "      <td>0.0</td>\n",
       "      <td>0.256932</td>\n",
       "    </tr>\n",
       "    <tr>\n",
       "      <th>1</th>\n",
       "      <td>1_2001-01-01</td>\n",
       "      <td>-15.858835</td>\n",
       "      <td>29.487029</td>\n",
       "      <td>0.0</td>\n",
       "      <td>1196</td>\n",
       "      <td>0</td>\n",
       "      <td>232</td>\n",
       "      <td>1196</td>\n",
       "      <td>201</td>\n",
       "      <td>10</td>\n",
       "      <td>...</td>\n",
       "      <td>0.0</td>\n",
       "      <td>0.0</td>\n",
       "      <td>0.000000</td>\n",
       "      <td>0.0</td>\n",
       "      <td>0.654783</td>\n",
       "      <td>0.000095</td>\n",
       "      <td>0.345121</td>\n",
       "      <td>0.000000</td>\n",
       "      <td>0.0</td>\n",
       "      <td>0.273093</td>\n",
       "    </tr>\n",
       "    <tr>\n",
       "      <th>2</th>\n",
       "      <td>2_2001-01-01</td>\n",
       "      <td>-15.858835</td>\n",
       "      <td>29.737029</td>\n",
       "      <td>0.0</td>\n",
       "      <td>1190</td>\n",
       "      <td>0</td>\n",
       "      <td>314</td>\n",
       "      <td>1190</td>\n",
       "      <td>192</td>\n",
       "      <td>10</td>\n",
       "      <td>...</td>\n",
       "      <td>0.0</td>\n",
       "      <td>0.0</td>\n",
       "      <td>0.000000</td>\n",
       "      <td>0.0</td>\n",
       "      <td>0.516421</td>\n",
       "      <td>0.000000</td>\n",
       "      <td>0.483579</td>\n",
       "      <td>0.000000</td>\n",
       "      <td>0.0</td>\n",
       "      <td>0.285109</td>\n",
       "    </tr>\n",
       "    <tr>\n",
       "      <th>3</th>\n",
       "      <td>3_2001-01-01</td>\n",
       "      <td>-15.858835</td>\n",
       "      <td>29.987029</td>\n",
       "      <td>0.0</td>\n",
       "      <td>1144</td>\n",
       "      <td>0</td>\n",
       "      <td>321</td>\n",
       "      <td>1144</td>\n",
       "      <td>186</td>\n",
       "      <td>66</td>\n",
       "      <td>...</td>\n",
       "      <td>0.0</td>\n",
       "      <td>0.0</td>\n",
       "      <td>0.000000</td>\n",
       "      <td>0.0</td>\n",
       "      <td>0.299000</td>\n",
       "      <td>0.163902</td>\n",
       "      <td>0.537098</td>\n",
       "      <td>0.000000</td>\n",
       "      <td>0.0</td>\n",
       "      <td>0.298418</td>\n",
       "    </tr>\n",
       "    <tr>\n",
       "      <th>4</th>\n",
       "      <td>4_2001-01-01</td>\n",
       "      <td>-15.858835</td>\n",
       "      <td>30.237029</td>\n",
       "      <td>0.0</td>\n",
       "      <td>1187</td>\n",
       "      <td>0</td>\n",
       "      <td>413</td>\n",
       "      <td>1187</td>\n",
       "      <td>186</td>\n",
       "      <td>9</td>\n",
       "      <td>...</td>\n",
       "      <td>0.0</td>\n",
       "      <td>0.0</td>\n",
       "      <td>0.000000</td>\n",
       "      <td>0.0</td>\n",
       "      <td>0.277392</td>\n",
       "      <td>0.067742</td>\n",
       "      <td>0.654866</td>\n",
       "      <td>0.000000</td>\n",
       "      <td>0.0</td>\n",
       "      <td>0.315621</td>\n",
       "    </tr>\n",
       "  </tbody>\n",
       "</table>\n",
       "<p>5 rows × 29 columns</p>\n",
       "</div>"
      ],
      "text/plain": [
       "             ID        lat        lon  burn_area  climate_aet  climate_def  \\\n",
       "0  0_2001-01-01 -15.858835  29.237029        0.0         1195            0   \n",
       "1  1_2001-01-01 -15.858835  29.487029        0.0         1196            0   \n",
       "2  2_2001-01-01 -15.858835  29.737029        0.0         1190            0   \n",
       "3  3_2001-01-01 -15.858835  29.987029        0.0         1144            0   \n",
       "4  4_2001-01-01 -15.858835  30.237029        0.0         1187            0   \n",
       "\n",
       "   climate_pdsi  climate_pet  climate_pr  climate_ro  ...  landcover_0  \\\n",
       "0           263         1195         206          10  ...          0.0   \n",
       "1           232         1196         201          10  ...          0.0   \n",
       "2           314         1190         192          10  ...          0.0   \n",
       "3           321         1144         186          66  ...          0.0   \n",
       "4           413         1187         186           9  ...          0.0   \n",
       "\n",
       "   landcover_1  landcover_2  landcover_3  landcover_4  landcover_5  \\\n",
       "0          0.0     0.018654          0.0     0.714446     0.012174   \n",
       "1          0.0     0.000000          0.0     0.654783     0.000095   \n",
       "2          0.0     0.000000          0.0     0.516421     0.000000   \n",
       "3          0.0     0.000000          0.0     0.299000     0.163902   \n",
       "4          0.0     0.000000          0.0     0.277392     0.067742   \n",
       "\n",
       "   landcover_6  landcover_7  landcover_8  precipitation  \n",
       "0     0.244890     0.009836          0.0       0.256932  \n",
       "1     0.345121     0.000000          0.0       0.273093  \n",
       "2     0.483579     0.000000          0.0       0.285109  \n",
       "3     0.537098     0.000000          0.0       0.298418  \n",
       "4     0.654866     0.000000          0.0       0.315621  \n",
       "\n",
       "[5 rows x 29 columns]"
      ]
     },
     "execution_count": 4,
     "metadata": {},
     "output_type": "execute_result"
    }
   ],
   "source": [
    "# The training data.\n",
    "train = pd.read_csv('https://raw.githubusercontent.com/GKamundia/Zindi/main/Train.csv')\n",
    "train.head()"
   ]
  },
  {
   "cell_type": "code",
   "execution_count": 5,
   "metadata": {
    "colab": {
     "base_uri": "https://localhost:8080/",
     "height": 147
    },
    "id": "tk1usMx80nQr",
    "outputId": "a3e5987e-5ce3-436e-d6a1-a87bff927191"
   },
   "outputs": [
    {
     "data": {
      "text/html": [
       "<div>\n",
       "<style scoped>\n",
       "    .dataframe tbody tr th:only-of-type {\n",
       "        vertical-align: middle;\n",
       "    }\n",
       "\n",
       "    .dataframe tbody tr th {\n",
       "        vertical-align: top;\n",
       "    }\n",
       "\n",
       "    .dataframe thead th {\n",
       "        text-align: right;\n",
       "    }\n",
       "</style>\n",
       "<table border=\"1\" class=\"dataframe\">\n",
       "  <thead>\n",
       "    <tr style=\"text-align: right;\">\n",
       "      <th></th>\n",
       "      <th>ID</th>\n",
       "      <th>lat</th>\n",
       "      <th>lon</th>\n",
       "      <th>climate_aet</th>\n",
       "      <th>climate_def</th>\n",
       "      <th>climate_pdsi</th>\n",
       "      <th>climate_pet</th>\n",
       "      <th>climate_pr</th>\n",
       "      <th>climate_ro</th>\n",
       "      <th>climate_soil</th>\n",
       "      <th>...</th>\n",
       "      <th>landcover_0</th>\n",
       "      <th>landcover_1</th>\n",
       "      <th>landcover_2</th>\n",
       "      <th>landcover_3</th>\n",
       "      <th>landcover_4</th>\n",
       "      <th>landcover_5</th>\n",
       "      <th>landcover_6</th>\n",
       "      <th>landcover_7</th>\n",
       "      <th>landcover_8</th>\n",
       "      <th>precipitation</th>\n",
       "    </tr>\n",
       "  </thead>\n",
       "  <tbody>\n",
       "    <tr>\n",
       "      <th>0</th>\n",
       "      <td>0_2014-01-01</td>\n",
       "      <td>-15.858835</td>\n",
       "      <td>29.237029</td>\n",
       "      <td>1146</td>\n",
       "      <td>74</td>\n",
       "      <td>-451</td>\n",
       "      <td>1220</td>\n",
       "      <td>120</td>\n",
       "      <td>6</td>\n",
       "      <td>212</td>\n",
       "      <td>...</td>\n",
       "      <td>0.0</td>\n",
       "      <td>0.000615</td>\n",
       "      <td>0.015418</td>\n",
       "      <td>0.0</td>\n",
       "      <td>0.416704</td>\n",
       "      <td>0.023724</td>\n",
       "      <td>0.530016</td>\n",
       "      <td>0.013524</td>\n",
       "      <td>0.0</td>\n",
       "      <td>0.404243</td>\n",
       "    </tr>\n",
       "  </tbody>\n",
       "</table>\n",
       "<p>1 rows × 28 columns</p>\n",
       "</div>"
      ],
      "text/plain": [
       "             ID        lat        lon  climate_aet  climate_def  climate_pdsi  \\\n",
       "0  0_2014-01-01 -15.858835  29.237029         1146           74          -451   \n",
       "\n",
       "   climate_pet  climate_pr  climate_ro  climate_soil  ...  landcover_0  \\\n",
       "0         1220         120           6           212  ...          0.0   \n",
       "\n",
       "   landcover_1  landcover_2  landcover_3  landcover_4  landcover_5  \\\n",
       "0     0.000615     0.015418          0.0     0.416704     0.023724   \n",
       "\n",
       "   landcover_6  landcover_7  landcover_8  precipitation  \n",
       "0     0.530016     0.013524          0.0       0.404243  \n",
       "\n",
       "[1 rows x 28 columns]"
      ]
     },
     "execution_count": 5,
     "metadata": {},
     "output_type": "execute_result"
    }
   ],
   "source": [
    "test = pd.read_csv('https://raw.githubusercontent.com/GKamundia/Zindi/main/Test.csv')\n",
    "test.head(1)"
   ]
  },
  {
   "cell_type": "markdown",
   "metadata": {
    "id": "Tnl3iVg5xqfA"
   },
   "source": [
    "# EDA + Feature Engineering"
   ]
  },
  {
   "cell_type": "code",
   "execution_count": 6,
   "metadata": {
    "colab": {
     "base_uri": "https://localhost:8080/",
     "height": 350
    },
    "id": "1WCG4h0-S_v1",
    "outputId": "675f0a8c-1d02-4712-b844-09ddaf54761f"
   },
   "outputs": [
    {
     "data": {
      "text/html": [
       "<div>\n",
       "<style scoped>\n",
       "    .dataframe tbody tr th:only-of-type {\n",
       "        vertical-align: middle;\n",
       "    }\n",
       "\n",
       "    .dataframe tbody tr th {\n",
       "        vertical-align: top;\n",
       "    }\n",
       "\n",
       "    .dataframe thead th {\n",
       "        text-align: right;\n",
       "    }\n",
       "</style>\n",
       "<table border=\"1\" class=\"dataframe\">\n",
       "  <thead>\n",
       "    <tr style=\"text-align: right;\">\n",
       "      <th></th>\n",
       "      <th>lat</th>\n",
       "      <th>lon</th>\n",
       "      <th>burn_area</th>\n",
       "      <th>climate_aet</th>\n",
       "      <th>climate_def</th>\n",
       "      <th>climate_pdsi</th>\n",
       "      <th>climate_pet</th>\n",
       "      <th>climate_pr</th>\n",
       "      <th>climate_ro</th>\n",
       "      <th>climate_soil</th>\n",
       "      <th>...</th>\n",
       "      <th>landcover_0</th>\n",
       "      <th>landcover_1</th>\n",
       "      <th>landcover_2</th>\n",
       "      <th>landcover_3</th>\n",
       "      <th>landcover_4</th>\n",
       "      <th>landcover_5</th>\n",
       "      <th>landcover_6</th>\n",
       "      <th>landcover_7</th>\n",
       "      <th>landcover_8</th>\n",
       "      <th>precipitation</th>\n",
       "    </tr>\n",
       "  </thead>\n",
       "  <tbody>\n",
       "    <tr>\n",
       "      <th>count</th>\n",
       "      <td>83148.000000</td>\n",
       "      <td>83148.000000</td>\n",
       "      <td>83148.000000</td>\n",
       "      <td>83148.000000</td>\n",
       "      <td>83148.000000</td>\n",
       "      <td>83148.000000</td>\n",
       "      <td>83148.000000</td>\n",
       "      <td>83148.000000</td>\n",
       "      <td>83148.000000</td>\n",
       "      <td>83148.000000</td>\n",
       "      <td>...</td>\n",
       "      <td>83148.000000</td>\n",
       "      <td>83148.000000</td>\n",
       "      <td>83148.000000</td>\n",
       "      <td>8.314800e+04</td>\n",
       "      <td>83148.000000</td>\n",
       "      <td>83148.000000</td>\n",
       "      <td>83148.000000</td>\n",
       "      <td>83148.000000</td>\n",
       "      <td>83148.000000</td>\n",
       "      <td>83148.000000</td>\n",
       "    </tr>\n",
       "    <tr>\n",
       "      <th>mean</th>\n",
       "      <td>-19.014557</td>\n",
       "      <td>29.860856</td>\n",
       "      <td>0.007632</td>\n",
       "      <td>484.491124</td>\n",
       "      <td>828.892721</td>\n",
       "      <td>-30.806237</td>\n",
       "      <td>1313.382992</td>\n",
       "      <td>54.576322</td>\n",
       "      <td>6.215134</td>\n",
       "      <td>305.477919</td>\n",
       "      <td>...</td>\n",
       "      <td>0.006158</td>\n",
       "      <td>0.000017</td>\n",
       "      <td>0.008583</td>\n",
       "      <td>4.066313e-08</td>\n",
       "      <td>0.160628</td>\n",
       "      <td>0.037453</td>\n",
       "      <td>0.785382</td>\n",
       "      <td>0.000354</td>\n",
       "      <td>0.001424</td>\n",
       "      <td>0.078551</td>\n",
       "    </tr>\n",
       "    <tr>\n",
       "      <th>std</th>\n",
       "      <td>1.588444</td>\n",
       "      <td>1.751090</td>\n",
       "      <td>0.029226</td>\n",
       "      <td>470.467480</td>\n",
       "      <td>546.934469</td>\n",
       "      <td>235.802930</td>\n",
       "      <td>315.209838</td>\n",
       "      <td>71.997561</td>\n",
       "      <td>21.480399</td>\n",
       "      <td>400.956123</td>\n",
       "      <td>...</td>\n",
       "      <td>0.053111</td>\n",
       "      <td>0.000141</td>\n",
       "      <td>0.059046</td>\n",
       "      <td>3.535121e-06</td>\n",
       "      <td>0.192957</td>\n",
       "      <td>0.106050</td>\n",
       "      <td>0.233953</td>\n",
       "      <td>0.001773</td>\n",
       "      <td>0.014233</td>\n",
       "      <td>0.104464</td>\n",
       "    </tr>\n",
       "    <tr>\n",
       "      <th>min</th>\n",
       "      <td>-22.358835</td>\n",
       "      <td>25.487029</td>\n",
       "      <td>0.000000</td>\n",
       "      <td>0.000000</td>\n",
       "      <td>0.000000</td>\n",
       "      <td>-563.000000</td>\n",
       "      <td>587.000000</td>\n",
       "      <td>0.000000</td>\n",
       "      <td>0.000000</td>\n",
       "      <td>1.000000</td>\n",
       "      <td>...</td>\n",
       "      <td>0.000000</td>\n",
       "      <td>0.000000</td>\n",
       "      <td>0.000000</td>\n",
       "      <td>0.000000e+00</td>\n",
       "      <td>0.000000</td>\n",
       "      <td>0.000000</td>\n",
       "      <td>0.000019</td>\n",
       "      <td>0.000000</td>\n",
       "      <td>0.000000</td>\n",
       "      <td>0.000000</td>\n",
       "    </tr>\n",
       "    <tr>\n",
       "      <th>25%</th>\n",
       "      <td>-20.358835</td>\n",
       "      <td>28.487029</td>\n",
       "      <td>0.000000</td>\n",
       "      <td>50.000000</td>\n",
       "      <td>375.000000</td>\n",
       "      <td>-212.000000</td>\n",
       "      <td>1081.000000</td>\n",
       "      <td>1.000000</td>\n",
       "      <td>0.000000</td>\n",
       "      <td>70.000000</td>\n",
       "      <td>...</td>\n",
       "      <td>0.000000</td>\n",
       "      <td>0.000000</td>\n",
       "      <td>0.000000</td>\n",
       "      <td>0.000000e+00</td>\n",
       "      <td>0.014993</td>\n",
       "      <td>0.000000</td>\n",
       "      <td>0.655322</td>\n",
       "      <td>0.000000</td>\n",
       "      <td>0.000000</td>\n",
       "      <td>0.002017</td>\n",
       "    </tr>\n",
       "    <tr>\n",
       "      <th>50%</th>\n",
       "      <td>-18.858835</td>\n",
       "      <td>29.987029</td>\n",
       "      <td>0.000000</td>\n",
       "      <td>302.000000</td>\n",
       "      <td>858.000000</td>\n",
       "      <td>-108.000000</td>\n",
       "      <td>1290.000000</td>\n",
       "      <td>22.000000</td>\n",
       "      <td>1.000000</td>\n",
       "      <td>149.000000</td>\n",
       "      <td>...</td>\n",
       "      <td>0.000000</td>\n",
       "      <td>0.000000</td>\n",
       "      <td>0.000000</td>\n",
       "      <td>0.000000e+00</td>\n",
       "      <td>0.076706</td>\n",
       "      <td>0.000139</td>\n",
       "      <td>0.880600</td>\n",
       "      <td>0.000000</td>\n",
       "      <td>0.000000</td>\n",
       "      <td>0.028503</td>\n",
       "    </tr>\n",
       "    <tr>\n",
       "      <th>75%</th>\n",
       "      <td>-17.858835</td>\n",
       "      <td>31.237029</td>\n",
       "      <td>0.000000</td>\n",
       "      <td>931.000000</td>\n",
       "      <td>1211.000000</td>\n",
       "      <td>142.000000</td>\n",
       "      <td>1517.000000</td>\n",
       "      <td>87.000000</td>\n",
       "      <td>4.000000</td>\n",
       "      <td>329.000000</td>\n",
       "      <td>...</td>\n",
       "      <td>0.000000</td>\n",
       "      <td>0.000000</td>\n",
       "      <td>0.000000</td>\n",
       "      <td>0.000000e+00</td>\n",
       "      <td>0.246498</td>\n",
       "      <td>0.015166</td>\n",
       "      <td>0.971209</td>\n",
       "      <td>0.000000</td>\n",
       "      <td>0.000000</td>\n",
       "      <td>0.125500</td>\n",
       "    </tr>\n",
       "    <tr>\n",
       "      <th>max</th>\n",
       "      <td>-15.858835</td>\n",
       "      <td>32.987029</td>\n",
       "      <td>0.843886</td>\n",
       "      <td>1713.000000</td>\n",
       "      <td>2614.000000</td>\n",
       "      <td>851.000000</td>\n",
       "      <td>2620.000000</td>\n",
       "      <td>501.000000</td>\n",
       "      <td>342.000000</td>\n",
       "      <td>3319.000000</td>\n",
       "      <td>...</td>\n",
       "      <td>0.828131</td>\n",
       "      <td>0.004918</td>\n",
       "      <td>0.711603</td>\n",
       "      <td>3.073689e-04</td>\n",
       "      <td>0.981472</td>\n",
       "      <td>0.881323</td>\n",
       "      <td>1.000000</td>\n",
       "      <td>0.016708</td>\n",
       "      <td>0.301823</td>\n",
       "      <td>0.801328</td>\n",
       "    </tr>\n",
       "  </tbody>\n",
       "</table>\n",
       "<p>8 rows × 28 columns</p>\n",
       "</div>"
      ],
      "text/plain": [
       "                lat           lon     burn_area   climate_aet   climate_def  \\\n",
       "count  83148.000000  83148.000000  83148.000000  83148.000000  83148.000000   \n",
       "mean     -19.014557     29.860856      0.007632    484.491124    828.892721   \n",
       "std        1.588444      1.751090      0.029226    470.467480    546.934469   \n",
       "min      -22.358835     25.487029      0.000000      0.000000      0.000000   \n",
       "25%      -20.358835     28.487029      0.000000     50.000000    375.000000   \n",
       "50%      -18.858835     29.987029      0.000000    302.000000    858.000000   \n",
       "75%      -17.858835     31.237029      0.000000    931.000000   1211.000000   \n",
       "max      -15.858835     32.987029      0.843886   1713.000000   2614.000000   \n",
       "\n",
       "       climate_pdsi   climate_pet    climate_pr    climate_ro  climate_soil  \\\n",
       "count  83148.000000  83148.000000  83148.000000  83148.000000  83148.000000   \n",
       "mean     -30.806237   1313.382992     54.576322      6.215134    305.477919   \n",
       "std      235.802930    315.209838     71.997561     21.480399    400.956123   \n",
       "min     -563.000000    587.000000      0.000000      0.000000      1.000000   \n",
       "25%     -212.000000   1081.000000      1.000000      0.000000     70.000000   \n",
       "50%     -108.000000   1290.000000     22.000000      1.000000    149.000000   \n",
       "75%      142.000000   1517.000000     87.000000      4.000000    329.000000   \n",
       "max      851.000000   2620.000000    501.000000    342.000000   3319.000000   \n",
       "\n",
       "       ...   landcover_0   landcover_1   landcover_2   landcover_3  \\\n",
       "count  ...  83148.000000  83148.000000  83148.000000  8.314800e+04   \n",
       "mean   ...      0.006158      0.000017      0.008583  4.066313e-08   \n",
       "std    ...      0.053111      0.000141      0.059046  3.535121e-06   \n",
       "min    ...      0.000000      0.000000      0.000000  0.000000e+00   \n",
       "25%    ...      0.000000      0.000000      0.000000  0.000000e+00   \n",
       "50%    ...      0.000000      0.000000      0.000000  0.000000e+00   \n",
       "75%    ...      0.000000      0.000000      0.000000  0.000000e+00   \n",
       "max    ...      0.828131      0.004918      0.711603  3.073689e-04   \n",
       "\n",
       "        landcover_4   landcover_5   landcover_6   landcover_7   landcover_8  \\\n",
       "count  83148.000000  83148.000000  83148.000000  83148.000000  83148.000000   \n",
       "mean       0.160628      0.037453      0.785382      0.000354      0.001424   \n",
       "std        0.192957      0.106050      0.233953      0.001773      0.014233   \n",
       "min        0.000000      0.000000      0.000019      0.000000      0.000000   \n",
       "25%        0.014993      0.000000      0.655322      0.000000      0.000000   \n",
       "50%        0.076706      0.000139      0.880600      0.000000      0.000000   \n",
       "75%        0.246498      0.015166      0.971209      0.000000      0.000000   \n",
       "max        0.981472      0.881323      1.000000      0.016708      0.301823   \n",
       "\n",
       "       precipitation  \n",
       "count   83148.000000  \n",
       "mean        0.078551  \n",
       "std         0.104464  \n",
       "min         0.000000  \n",
       "25%         0.002017  \n",
       "50%         0.028503  \n",
       "75%         0.125500  \n",
       "max         0.801328  \n",
       "\n",
       "[8 rows x 28 columns]"
      ]
     },
     "execution_count": 6,
     "metadata": {},
     "output_type": "execute_result"
    }
   ],
   "source": [
    "# Look at distribution of each variable\n",
    "train.describe()"
   ]
  },
  {
   "cell_type": "code",
   "execution_count": 7,
   "metadata": {
    "colab": {
     "base_uri": "https://localhost:8080/",
     "height": 538
    },
    "id": "eF2NXmXbSOaW",
    "outputId": "3255ea8f-1d5c-4c1d-b44f-da216bf7eedf"
   },
   "outputs": [
    {
     "data": {
      "text/plain": [
       "<Axes: >"
      ]
     },
     "execution_count": 7,
     "metadata": {},
     "output_type": "execute_result"
    },
    {
     "data": {
      "image/png": "[encoded data removed]",
      "text/plain": [
       "<Figure size 1800x600 with 1 Axes>"
      ]
     },
     "metadata": {},
     "output_type": "display_data"
    }
   ],
   "source": [
    "# Look at correlation with target\n",
    "train.select_dtypes(include=['number']).corr()['burn_area'].sort_values().plot(kind='bar', figsize=(18, 6))"
   ]
  },
  {
   "cell_type": "code",
   "execution_count": 8,
   "metadata": {
    "colab": {
     "base_uri": "https://localhost:8080/",
     "height": 447
    },
    "id": "DLVC6pU91PPE",
    "outputId": "8b554320-1178-40f8-aef1-f02711f954ce"
   },
   "outputs": [
    {
     "data": {
      "text/plain": [
       "<matplotlib.collections.PathCollection at 0x17a6cdf94e0>"
      ]
     },
     "execution_count": 8,
     "metadata": {},
     "output_type": "execute_result"
    },
    {
     "data": {
      "image/png": "[encoded data removed]",
      "text/plain": [
       "<Figure size 640x480 with 1 Axes>"
      ]
     },
     "metadata": {},
     "output_type": "display_data"
    }
   ],
   "source": [
    "# Look at some scatter plots (only plotting for a subset of data to keep things fast)\n",
    "sample = train.sample(10000)\n",
    "plt.scatter(sample['climate_vap'], sample['burn_area'], alpha=0.3)"
   ]
  },
  {
   "cell_type": "code",
   "execution_count": 9,
   "metadata": {
    "colab": {
     "base_uri": "https://localhost:8080/",
     "height": 447
    },
    "id": "Fp-Wq1zrCets",
    "outputId": "fc84c36e-8841-4258-8ddf-51a87d21ada7"
   },
   "outputs": [
    {
     "data": {
      "text/plain": [
       "<matplotlib.collections.PathCollection at 0x17a6d921000>"
      ]
     },
     "execution_count": 9,
     "metadata": {},
     "output_type": "execute_result"
    },
    {
     "data": {
      "image/png": "[encoded data removed]",
      "text/plain": [
       "<Figure size 640x480 with 1 Axes>"
      ]
     },
     "metadata": {},
     "output_type": "display_data"
    }
   ],
   "source": [
    "# Most fires occur when there's very little rain.\n",
    "plt.scatter(sample['climate_pr'], sample['burn_area'], alpha=0.3)"
   ]
  },
  {
   "cell_type": "markdown",
   "metadata": {
    "id": "xXIk62X9iONj"
   },
   "source": [
    "##  Adding date features"
   ]
  },
  {
   "cell_type": "code",
   "execution_count": 10,
   "metadata": {
    "id": "pn-SKQxiHAon"
   },
   "outputs": [],
   "source": [
    "# Split the ID (eg 127_2017-01-03) to get the date string, which we convert to datetime to make life easier\n",
    "train['date'] = pd.to_datetime(train['ID'].apply(lambda x: x.split('_')[1]))\n",
    "test['date'] = pd.to_datetime(test['ID'].apply(lambda x: x.split('_')[1]))"
   ]
  },
  {
   "cell_type": "code",
   "execution_count": 11,
   "metadata": {
    "colab": {
     "base_uri": "https://localhost:8080/"
    },
    "id": "3tAU8Z9uV_AD",
    "outputId": "3c855687-1773-4645-f746-d81fd85079cc"
   },
   "outputs": [
    {
     "data": {
      "text/plain": [
       "Timestamp('2001-01-01 00:00:00')"
      ]
     },
     "execution_count": 11,
     "metadata": {},
     "output_type": "execute_result"
    }
   ],
   "source": [
    "train['date'][1]"
   ]
  },
  {
   "cell_type": "code",
   "execution_count": 12,
   "metadata": {
    "colab": {
     "base_uri": "https://localhost:8080/",
     "height": 342
    },
    "id": "eCeRSF9YUI_5",
    "outputId": "00368a2e-35ed-4ff1-bb4a-b8542fd8b0ec"
   },
   "outputs": [
    {
     "data": {
      "text/html": [
       "<div>\n",
       "<style scoped>\n",
       "    .dataframe tbody tr th:only-of-type {\n",
       "        vertical-align: middle;\n",
       "    }\n",
       "\n",
       "    .dataframe tbody tr th {\n",
       "        vertical-align: top;\n",
       "    }\n",
       "\n",
       "    .dataframe thead th {\n",
       "        text-align: right;\n",
       "    }\n",
       "</style>\n",
       "<table border=\"1\" class=\"dataframe\">\n",
       "  <thead>\n",
       "    <tr style=\"text-align: right;\">\n",
       "      <th></th>\n",
       "      <th>ID</th>\n",
       "      <th>lat</th>\n",
       "      <th>lon</th>\n",
       "      <th>burn_area</th>\n",
       "      <th>climate_aet</th>\n",
       "      <th>climate_def</th>\n",
       "      <th>climate_pdsi</th>\n",
       "      <th>climate_pet</th>\n",
       "      <th>climate_pr</th>\n",
       "      <th>climate_ro</th>\n",
       "      <th>...</th>\n",
       "      <th>landcover_1</th>\n",
       "      <th>landcover_2</th>\n",
       "      <th>landcover_3</th>\n",
       "      <th>landcover_4</th>\n",
       "      <th>landcover_5</th>\n",
       "      <th>landcover_6</th>\n",
       "      <th>landcover_7</th>\n",
       "      <th>landcover_8</th>\n",
       "      <th>precipitation</th>\n",
       "      <th>date</th>\n",
       "    </tr>\n",
       "  </thead>\n",
       "  <tbody>\n",
       "    <tr>\n",
       "      <th>0</th>\n",
       "      <td>0_2001-01-01</td>\n",
       "      <td>-15.858835</td>\n",
       "      <td>29.237029</td>\n",
       "      <td>0.0</td>\n",
       "      <td>1195</td>\n",
       "      <td>0</td>\n",
       "      <td>263</td>\n",
       "      <td>1195</td>\n",
       "      <td>206</td>\n",
       "      <td>10</td>\n",
       "      <td>...</td>\n",
       "      <td>0.0</td>\n",
       "      <td>0.018654</td>\n",
       "      <td>0.0</td>\n",
       "      <td>0.714446</td>\n",
       "      <td>0.012174</td>\n",
       "      <td>0.244890</td>\n",
       "      <td>0.009836</td>\n",
       "      <td>0.0</td>\n",
       "      <td>0.256932</td>\n",
       "      <td>2001-01-01</td>\n",
       "    </tr>\n",
       "    <tr>\n",
       "      <th>1</th>\n",
       "      <td>1_2001-01-01</td>\n",
       "      <td>-15.858835</td>\n",
       "      <td>29.487029</td>\n",
       "      <td>0.0</td>\n",
       "      <td>1196</td>\n",
       "      <td>0</td>\n",
       "      <td>232</td>\n",
       "      <td>1196</td>\n",
       "      <td>201</td>\n",
       "      <td>10</td>\n",
       "      <td>...</td>\n",
       "      <td>0.0</td>\n",
       "      <td>0.000000</td>\n",
       "      <td>0.0</td>\n",
       "      <td>0.654783</td>\n",
       "      <td>0.000095</td>\n",
       "      <td>0.345121</td>\n",
       "      <td>0.000000</td>\n",
       "      <td>0.0</td>\n",
       "      <td>0.273093</td>\n",
       "      <td>2001-01-01</td>\n",
       "    </tr>\n",
       "    <tr>\n",
       "      <th>2</th>\n",
       "      <td>2_2001-01-01</td>\n",
       "      <td>-15.858835</td>\n",
       "      <td>29.737029</td>\n",
       "      <td>0.0</td>\n",
       "      <td>1190</td>\n",
       "      <td>0</td>\n",
       "      <td>314</td>\n",
       "      <td>1190</td>\n",
       "      <td>192</td>\n",
       "      <td>10</td>\n",
       "      <td>...</td>\n",
       "      <td>0.0</td>\n",
       "      <td>0.000000</td>\n",
       "      <td>0.0</td>\n",
       "      <td>0.516421</td>\n",
       "      <td>0.000000</td>\n",
       "      <td>0.483579</td>\n",
       "      <td>0.000000</td>\n",
       "      <td>0.0</td>\n",
       "      <td>0.285109</td>\n",
       "      <td>2001-01-01</td>\n",
       "    </tr>\n",
       "    <tr>\n",
       "      <th>3</th>\n",
       "      <td>3_2001-01-01</td>\n",
       "      <td>-15.858835</td>\n",
       "      <td>29.987029</td>\n",
       "      <td>0.0</td>\n",
       "      <td>1144</td>\n",
       "      <td>0</td>\n",
       "      <td>321</td>\n",
       "      <td>1144</td>\n",
       "      <td>186</td>\n",
       "      <td>66</td>\n",
       "      <td>...</td>\n",
       "      <td>0.0</td>\n",
       "      <td>0.000000</td>\n",
       "      <td>0.0</td>\n",
       "      <td>0.299000</td>\n",
       "      <td>0.163902</td>\n",
       "      <td>0.537098</td>\n",
       "      <td>0.000000</td>\n",
       "      <td>0.0</td>\n",
       "      <td>0.298418</td>\n",
       "      <td>2001-01-01</td>\n",
       "    </tr>\n",
       "    <tr>\n",
       "      <th>4</th>\n",
       "      <td>4_2001-01-01</td>\n",
       "      <td>-15.858835</td>\n",
       "      <td>30.237029</td>\n",
       "      <td>0.0</td>\n",
       "      <td>1187</td>\n",
       "      <td>0</td>\n",
       "      <td>413</td>\n",
       "      <td>1187</td>\n",
       "      <td>186</td>\n",
       "      <td>9</td>\n",
       "      <td>...</td>\n",
       "      <td>0.0</td>\n",
       "      <td>0.000000</td>\n",
       "      <td>0.0</td>\n",
       "      <td>0.277392</td>\n",
       "      <td>0.067742</td>\n",
       "      <td>0.654866</td>\n",
       "      <td>0.000000</td>\n",
       "      <td>0.0</td>\n",
       "      <td>0.315621</td>\n",
       "      <td>2001-01-01</td>\n",
       "    </tr>\n",
       "  </tbody>\n",
       "</table>\n",
       "<p>5 rows × 30 columns</p>\n",
       "</div>"
      ],
      "text/plain": [
       "             ID        lat        lon  burn_area  climate_aet  climate_def  \\\n",
       "0  0_2001-01-01 -15.858835  29.237029        0.0         1195            0   \n",
       "1  1_2001-01-01 -15.858835  29.487029        0.0         1196            0   \n",
       "2  2_2001-01-01 -15.858835  29.737029        0.0         1190            0   \n",
       "3  3_2001-01-01 -15.858835  29.987029        0.0         1144            0   \n",
       "4  4_2001-01-01 -15.858835  30.237029        0.0         1187            0   \n",
       "\n",
       "   climate_pdsi  climate_pet  climate_pr  climate_ro  ...  landcover_1  \\\n",
       "0           263         1195         206          10  ...          0.0   \n",
       "1           232         1196         201          10  ...          0.0   \n",
       "2           314         1190         192          10  ...          0.0   \n",
       "3           321         1144         186          66  ...          0.0   \n",
       "4           413         1187         186           9  ...          0.0   \n",
       "\n",
       "   landcover_2  landcover_3  landcover_4  landcover_5  landcover_6  \\\n",
       "0     0.018654          0.0     0.714446     0.012174     0.244890   \n",
       "1     0.000000          0.0     0.654783     0.000095     0.345121   \n",
       "2     0.000000          0.0     0.516421     0.000000     0.483579   \n",
       "3     0.000000          0.0     0.299000     0.163902     0.537098   \n",
       "4     0.000000          0.0     0.277392     0.067742     0.654866   \n",
       "\n",
       "   landcover_7  landcover_8  precipitation       date  \n",
       "0     0.009836          0.0       0.256932 2001-01-01  \n",
       "1     0.000000          0.0       0.273093 2001-01-01  \n",
       "2     0.000000          0.0       0.285109 2001-01-01  \n",
       "3     0.000000          0.0       0.298418 2001-01-01  \n",
       "4     0.000000          0.0       0.315621 2001-01-01  \n",
       "\n",
       "[5 rows x 30 columns]"
      ]
     },
     "execution_count": 12,
     "metadata": {},
     "output_type": "execute_result"
    }
   ],
   "source": [
    "train.head()"
   ]
  },
  {
   "cell_type": "code",
   "execution_count": 13,
   "metadata": {
    "id": "bag8HJpxCucw"
   },
   "outputs": [],
   "source": [
    "# Date variables\n",
    "train['month'] = train.date.dt.month\n",
    "train['year'] = train.date.dt.year"
   ]
  },
  {
   "cell_type": "code",
   "execution_count": 14,
   "metadata": {
    "id": "89bsb9HkUtrG"
   },
   "outputs": [],
   "source": [
    "# Group by month and calculate the mean burn_area\n",
    "monthly_mean_burn_area = train.groupby('month')['burn_area'].mean().reset_index()"
   ]
  },
  {
   "cell_type": "code",
   "execution_count": 15,
   "metadata": {
    "colab": {
     "base_uri": "https://localhost:8080/",
     "height": 564
    },
    "id": "vzlSxP_SUxxH",
    "outputId": "0941b6ee-1791-4dd1-fc79-2dc201f538ab"
   },
   "outputs": [
    {
     "data": {
      "image/png": "[encoded data removed]",
      "text/plain": [
       "<Figure size 1000x600 with 1 Axes>"
      ]
     },
     "metadata": {},
     "output_type": "display_data"
    }
   ],
   "source": [
    "# Plot the results\n",
    "plt.figure(figsize=(10, 6))\n",
    "plt.bar(monthly_mean_burn_area['month'], monthly_mean_burn_area['burn_area'], color='skyblue')\n",
    "plt.xlabel('Month')\n",
    "plt.ylabel('Mean Burn Area')\n",
    "plt.title('Mean Burn Area by Month')\n",
    "plt.xticks(monthly_mean_burn_area['month'])\n",
    "plt.grid(axis='y', linestyle='--', alpha=0.7)\n",
    "plt.show()"
   ]
  },
  {
   "cell_type": "code",
   "execution_count": 16,
   "metadata": {
    "id": "Rp9KHVEKVN_m"
   },
   "outputs": [],
   "source": [
    "# Group by year and calculate the mean burn_area\n",
    "yearly_mean_burn_area = train.groupby('year')['burn_area'].mean().reset_index()"
   ]
  },
  {
   "cell_type": "code",
   "execution_count": 17,
   "metadata": {
    "colab": {
     "base_uri": "https://localhost:8080/",
     "height": 564
    },
    "id": "ispUqAsaVTRP",
    "outputId": "b70d8288-67b0-4194-d587-8b14503a900a"
   },
   "outputs": [
    {
     "data": {
      "image/png": "[encoded data removed]",
      "text/plain": [
       "<Figure size 1000x600 with 1 Axes>"
      ]
     },
     "metadata": {},
     "output_type": "display_data"
    }
   ],
   "source": [
    "# Plot the results\n",
    "plt.figure(figsize=(10, 6))\n",
    "plt.bar(yearly_mean_burn_area['year'], yearly_mean_burn_area['burn_area'], color='skyblue')\n",
    "plt.xlabel('Year')\n",
    "plt.ylabel('Mean Burn Area')\n",
    "plt.title('Mean Burn Area by Year')\n",
    "plt.xticks(yearly_mean_burn_area['year'])\n",
    "plt.grid(axis='y', linestyle='--', alpha=0.7)\n",
    "plt.show()"
   ]
  },
  {
   "cell_type": "code",
   "execution_count": 18,
   "metadata": {
    "colab": {
     "base_uri": "https://localhost:8080/",
     "height": 419
    },
    "id": "BCU3WP5fEAHq",
    "outputId": "e8ba0796-29d2-4e3a-ee88-04e328ffd34a"
   },
   "outputs": [
    {
     "data": {
      "text/plain": [
       "<Axes: xlabel='date'>"
      ]
     },
     "execution_count": 18,
     "metadata": {},
     "output_type": "execute_result"
    },
    {
     "data": {
      "image/png": "[encoded data removed]",
      "text/plain": [
       "<Figure size 1800x500 with 1 Axes>"
      ]
     },
     "metadata": {},
     "output_type": "display_data"
    }
   ],
   "source": [
    "# Convert 'burn_area' to numeric, handling non-numeric values\n",
    "train['burn_area'] = pd.to_numeric(train['burn_area'], errors='coerce')\n",
    "\n",
    "# Now try plotting again\n",
    "ax = train.groupby('date')['burn_area'].mean().reset_index().plot(y='burn_area', x='date', figsize=(18, 5))\n",
    "train.groupby('date')['precipitation'].mean().reset_index().plot(y='precipitation', x='date', ax=ax)"
   ]
  },
  {
   "cell_type": "markdown",
   "metadata": {
    "id": "mgzvz9iji1hb"
   },
   "source": [
    "## Adding more features - some ideas\n",
    "\n",
    "\n",
    "\n",
    "\n",
    "*   Read the list of climate variables and what they mean. See if you can combine them in interesting ways - perhaps a 'hot_and_dry' metric...\n",
    "*   Fire depends on some processes that take a long time - for example, there may be more fuel if the previous growing season was a good one. Consider some lagged variables to give the model some inputs for what came before the current month.\n",
    "*   Make some categorical features - 'dominant_land_type' or 'is_peak_rainfall'.\n",
    "*   ...\n",
    "\n"
   ]
  },
  {
   "cell_type": "markdown",
   "metadata": {
    "id": "RDCOsUvCz3dA"
   },
   "source": [
    "# Data Split for Validation\n",
    "\n",
    "We don't want to just split randomly - this would give us artificially high scores. Instead, let's use the last 3 years of the dataset for validation to more closely match the test configuration."
   ]
  },
  {
   "cell_type": "code",
   "execution_count": 19,
   "metadata": {
    "colab": {
     "base_uri": "https://localhost:8080/"
    },
    "id": "SCk5CZKI0Kt4",
    "outputId": "81b7374d-619e-44ea-a7d7-b735226b5399"
   },
   "outputs": [
    {
     "name": "stdout",
     "output_type": "stream",
     "text": [
      "(63960, 32) (18655, 32)\n"
     ]
    }
   ],
   "source": [
    "train_all = train.copy().dropna()\n",
    "train = train_all.loc[train_all.date < '2011-01-01']\n",
    "valid = train_all.loc[train_all.date > '2011-01-01']\n",
    "print(train.shape, valid.shape)"
   ]
  },
  {
   "cell_type": "markdown",
   "metadata": {
    "id": "sIRFzOxTx3sE"
   },
   "source": [
    "# Simple Model"
   ]
  },
  {
   "cell_type": "code",
   "execution_count": 20,
   "metadata": {
    "colab": {
     "base_uri": "https://localhost:8080/"
    },
    "id": "iu_Qv6-ftNsX",
    "outputId": "f4d2536a-8617-43e5-bcf5-d3414c8e83f7"
   },
   "outputs": [
    {
     "data": {
      "text/plain": [
       "Index(['ID', 'lat', 'lon', 'burn_area', 'climate_aet', 'climate_def',\n",
       "       'climate_pdsi', 'climate_pet', 'climate_pr', 'climate_ro',\n",
       "       'climate_soil', 'climate_srad', 'climate_swe', 'climate_tmmn',\n",
       "       'climate_tmmx', 'climate_vap', 'climate_vpd', 'climate_vs', 'elevation',\n",
       "       'landcover_0', 'landcover_1', 'landcover_2', 'landcover_3',\n",
       "       'landcover_4', 'landcover_5', 'landcover_6', 'landcover_7',\n",
       "       'landcover_8', 'precipitation', 'date', 'month', 'year'],\n",
       "      dtype='object')"
      ]
     },
     "execution_count": 20,
     "metadata": {},
     "output_type": "execute_result"
    }
   ],
   "source": [
    "train.columns"
   ]
  },
  {
   "cell_type": "code",
   "execution_count": 21,
   "metadata": {
    "colab": {
     "base_uri": "https://localhost:8080/"
    },
    "id": "Q_m4EEk-tNsY",
    "outputId": "96846c9c-1e6f-4ca0-9397-f6ac857dcc1e"
   },
   "outputs": [
    {
     "name": "stdout",
     "output_type": "stream",
     "text": [
      "<class 'pandas.core.frame.DataFrame'>\n",
      "Int64Index: 63960 entries, 0 to 63959\n",
      "Data columns (total 32 columns):\n",
      " #   Column         Non-Null Count  Dtype         \n",
      "---  ------         --------------  -----         \n",
      " 0   ID             63960 non-null  object        \n",
      " 1   lat            63960 non-null  float64       \n",
      " 2   lon            63960 non-null  float64       \n",
      " 3   burn_area      63960 non-null  float64       \n",
      " 4   climate_aet    63960 non-null  int64         \n",
      " 5   climate_def    63960 non-null  int64         \n",
      " 6   climate_pdsi   63960 non-null  int64         \n",
      " 7   climate_pet    63960 non-null  int64         \n",
      " 8   climate_pr     63960 non-null  int64         \n",
      " 9   climate_ro     63960 non-null  int64         \n",
      " 10  climate_soil   63960 non-null  int64         \n",
      " 11  climate_srad   63960 non-null  int64         \n",
      " 12  climate_swe    63960 non-null  int64         \n",
      " 13  climate_tmmn   63960 non-null  int64         \n",
      " 14  climate_tmmx   63960 non-null  int64         \n",
      " 15  climate_vap    63960 non-null  int64         \n",
      " 16  climate_vpd    63960 non-null  int64         \n",
      " 17  climate_vs     63960 non-null  int64         \n",
      " 18  elevation      63960 non-null  float64       \n",
      " 19  landcover_0    63960 non-null  float64       \n",
      " 20  landcover_1    63960 non-null  float64       \n",
      " 21  landcover_2    63960 non-null  float64       \n",
      " 22  landcover_3    63960 non-null  float64       \n",
      " 23  landcover_4    63960 non-null  float64       \n",
      " 24  landcover_5    63960 non-null  float64       \n",
      " 25  landcover_6    63960 non-null  float64       \n",
      " 26  landcover_7    63960 non-null  float64       \n",
      " 27  landcover_8    63960 non-null  float64       \n",
      " 28  precipitation  63960 non-null  float64       \n",
      " 29  date           63960 non-null  datetime64[ns]\n",
      " 30  month          63960 non-null  int64         \n",
      " 31  year           63960 non-null  int64         \n",
      "dtypes: datetime64[ns](1), float64(14), int64(16), object(1)\n",
      "memory usage: 16.1+ MB\n"
     ]
    }
   ],
   "source": [
    "train.info()"
   ]
  },
  {
   "cell_type": "code",
   "execution_count": 22,
   "metadata": {
    "id": "hMjgH87RzOqX"
   },
   "outputs": [],
   "source": [
    "# Define input and output columns - you can play with adding or removing inputs to the model\n",
    "in_cols = ['climate_aet', 'climate_def',\n",
    "       'climate_pdsi', 'climate_pet', 'climate_pr', 'climate_ro',\n",
    "       'climate_soil', 'climate_srad', 'climate_swe', 'climate_tmmn',\n",
    "       'climate_tmmx', 'climate_vap', 'climate_vpd', 'climate_vs', 'elevation',\n",
    "       'landcover_0', 'landcover_1', 'landcover_2', 'landcover_3',\n",
    "       'landcover_4', 'landcover_5', 'landcover_6', 'landcover_7',\n",
    "       'landcover_8', 'precipitation']\n",
    "target_col = 'burn_area'"
   ]
  },
  {
   "cell_type": "markdown",
   "metadata": {
    "id": "Y3jJi2Hbzsvn"
   },
   "source": [
    "XGBOOST MODEL"
   ]
  },
  {
   "cell_type": "code",
   "execution_count": 23,
   "metadata": {
    "colab": {
     "base_uri": "https://localhost:8080/"
    },
    "id": "l-8j9zDpzUpc",
    "outputId": "d3f389dd-ea56-4f5e-de76-87253be7d75b"
   },
   "outputs": [
    {
     "name": "stdout",
     "output_type": "stream",
     "text": [
      "Fitting 3 folds for each of 81 candidates, totalling 243 fits\n"
     ]
    },
    {
     "data": {
      "text/plain": [
       "0.02357987605099586"
      ]
     },
     "execution_count": 23,
     "metadata": {},
     "output_type": "execute_result"
    }
   ],
   "source": [
    "# Get our X and y training and validation sets ready\n",
    "from sklearn.model_selection import GridSearchCV\n",
    "from sklearn.preprocessing import StandardScaler\n",
    "from xgboost import XGBRegressor\n",
    "\n",
    "X_train, y_train = train[in_cols], train[target_col]\n",
    "X_valid, y_valid = valid[in_cols], valid[target_col]\n",
    "\n",
    "#standardscaler\n",
    "# scaler=StandardScaler()\n",
    "# X_train_scaled=scaler.fit_transform(X_train)\n",
    "# X_valid_scaled=scaler.transform(X_valid)\n",
    "\n",
    "\n",
    "#Train the XGBClassifier model\n",
    "xgb=XGBRegressor()\n",
    "\n",
    "xgb_param_grid = {\n",
    "    'learning_rate': [0.01, 0.05, 0.1],\n",
    "    'n_estimators': [100, 200, 500],\n",
    "    'max_depth': [3, 5, 7],\n",
    "    'subsample': [0.5, 0.6, 0.7]\n",
    "}\n",
    "\n",
    "\n",
    "grid_search=GridSearchCV(\n",
    "    estimator=xgb,\n",
    "    param_grid=xgb_param_grid,\n",
    "    cv=3,\n",
    "    scoring='neg_mean_squared_error',\n",
    "    n_jobs=-1,\n",
    "    verbose=2\n",
    ")\n",
    "\n",
    "# Fit GridSearchCV\n",
    "grid_search.fit(X_train,y_train)\n",
    "\n",
    "# Get the best estimator\n",
    "best_xgb_model=grid_search.best_estimator_\n",
    "\n",
    "# Create and fit the model\n",
    "model = best_xgb_model\n",
    "model.fit(X_train, y_train)\n",
    "\n",
    "# Make predictions\n",
    "preds = model.predict(X_valid)\n",
    "\n",
    "# Score\n",
    "mean_squared_error(y_valid, preds)**0.5 # RMSE - should match Zindi score. Lower is better"
   ]
  },
  {
   "cell_type": "markdown",
   "metadata": {
    "id": "QihFK-TH66M3"
   },
   "source": [
    "CATBOOST MODEL"
   ]
  },
  {
   "cell_type": "code",
   "execution_count": 25,
   "metadata": {
    "colab": {
     "base_uri": "https://localhost:8080/"
    },
    "id": "ODKDVBXY4F0b",
    "outputId": "664c8acd-d00b-4536-d228-a96bc9f527cf"
   },
   "outputs": [
    {
     "name": "stdout",
     "output_type": "stream",
     "text": [
      "Fitting 3 folds for each of 81 candidates, totalling 243 fits\n"
     ]
    },
    {
     "name": "stderr",
     "output_type": "stream",
     "text": [
      "C:\\Users\\DATA-JOHN\\AppData\\Local\\Programs\\Python\\Python310\\lib\\site-packages\\sklearn\\model_selection\\_validation.py:547: FitFailedWarning: \n",
      "1 fits failed out of a total of 243.\n",
      "The score on these train-test partitions for these parameters will be set to nan.\n",
      "If these failures are not expected, you can try to debug them by setting error_score='raise'.\n",
      "\n",
      "Below are more details about the failures:\n",
      "--------------------------------------------------------------------------------\n",
      "1 fits failed with the following error:\n",
      "Traceback (most recent call last):\n",
      "  File \"C:\\Users\\DATA-JOHN\\AppData\\Local\\Programs\\Python\\Python310\\lib\\site-packages\\sklearn\\model_selection\\_validation.py\", line 895, in _fit_and_score\n",
      "    estimator.fit(X_train, y_train, **fit_params)\n",
      "  File \"C:\\Users\\DATA-JOHN\\AppData\\Local\\Programs\\Python\\Python310\\lib\\site-packages\\catboost\\core.py\", line 5827, in fit\n",
      "    return self._fit(X, y, cat_features, text_features, embedding_features, None, sample_weight, None, None, None, None, baseline,\n",
      "  File \"C:\\Users\\DATA-JOHN\\AppData\\Local\\Programs\\Python\\Python310\\lib\\site-packages\\catboost\\core.py\", line 2400, in _fit\n",
      "    self._train(\n",
      "  File \"C:\\Users\\DATA-JOHN\\AppData\\Local\\Programs\\Python\\Python310\\lib\\site-packages\\catboost\\core.py\", line 1780, in _train\n",
      "    self._object._train(train_pool, test_pool, params, allow_clear_pool, init_model._object if init_model else None)\n",
      "  File \"_catboost.pyx\", line 4833, in _catboost._CatBoost._train\n",
      "  File \"_catboost.pyx\", line 4882, in _catboost._CatBoost._train\n",
      "_catboost.CatBoostError: C:/Go_Agent/pipelines/BuildMaster/catboost.git/catboost/libs/train_lib/dir_helper.cpp:20: Can't create train working dir: catboost_info\n",
      "\n",
      "  warnings.warn(some_fits_failed_message, FitFailedWarning)\n",
      "C:\\Users\\DATA-JOHN\\AppData\\Local\\Programs\\Python\\Python310\\lib\\site-packages\\sklearn\\model_selection\\_search.py:1051: UserWarning: One or more of the test scores are non-finite: [        nan -0.0007375  -0.00073776 -0.0007024  -0.00070251 -0.0007028\n",
      " -0.00067685 -0.00067646 -0.00067661 -0.0007109  -0.00071069 -0.00071107\n",
      " -0.00067566 -0.00067593 -0.00067619 -0.00065227 -0.00065247 -0.00065265\n",
      " -0.0006979  -0.00069677 -0.00069643 -0.00066046 -0.00066063 -0.0006601\n",
      " -0.00064006 -0.00063891 -0.00063895 -0.00067777 -0.00067602 -0.00067579\n",
      " -0.00066779 -0.00066678 -0.00066579 -0.00065809 -0.00065832 -0.00066005\n",
      " -0.00065511 -0.00065547 -0.00065418 -0.00064598 -0.00064737 -0.00064701\n",
      " -0.00064095 -0.00064009 -0.00064362 -0.00064277 -0.00064229 -0.00064045\n",
      " -0.00063166 -0.00063329 -0.00063234 -0.00062674 -0.00062989 -0.00063002\n",
      " -0.00066598 -0.00066933 -0.0006687  -0.00065683 -0.00066422 -0.00066062\n",
      " -0.00066764 -0.00067179 -0.00066807 -0.00064792 -0.00064605 -0.00065109\n",
      " -0.00064605 -0.0006434  -0.00064492 -0.00065526 -0.00065404 -0.00065297\n",
      " -0.00063466 -0.00063597 -0.00063151 -0.00063404 -0.00063278 -0.00062965\n",
      " -0.00063781 -0.00063759 -0.00063509]\n",
      "  warnings.warn(\n"
     ]
    },
    {
     "name": "stdout",
     "output_type": "stream",
     "text": [
      "Root Mean Squared Error (CatBoost): 0.023895965251944144\n"
     ]
    }
   ],
   "source": [
    "from catboost import CatBoostRegressor\n",
    "from sklearn.model_selection import GridSearchCV\n",
    "from sklearn.metrics import mean_squared_error\n",
    "\n",
    "# Initialize CatBoostRegressor\n",
    "catboost = CatBoostRegressor(verbose=0)\n",
    "\n",
    "# Define parameter grid for CatBoost\n",
    "catboost_param_grid = {\n",
    "    'learning_rate': [0.01, 0.05, 0.1],\n",
    "    'n_estimators': [100, 200, 500],\n",
    "    'max_depth': [3, 5, 7],\n",
    "    'subsample': [0.5, 0.6, 0.7]\n",
    "}\n",
    "\n",
    "# Set up GridSearchCV for CatBoost\n",
    "grid_search = GridSearchCV(\n",
    "    estimator=catboost,\n",
    "    param_grid=catboost_param_grid,\n",
    "    cv=3,\n",
    "    scoring='neg_mean_squared_error',\n",
    "    n_jobs=-1,\n",
    "    verbose=2\n",
    ")\n",
    "\n",
    "# Fit GridSearchCV\n",
    "grid_search.fit(X_train, y_train)\n",
    "\n",
    "# Get the best estimator\n",
    "best_catboost_model = grid_search.best_estimator_\n",
    "\n",
    "# Create and fit the model\n",
    "model = best_catboost_model\n",
    "model.fit(X_train, y_train)\n",
    "\n",
    "# Make predictions\n",
    "preds = model.predict(X_valid)\n",
    "\n",
    "# Score\n",
    "rmse = mean_squared_error(y_valid, preds) ** 0.5\n",
    "print(f'Root Mean Squared Error (CatBoost): {rmse}')\n"
   ]
  },
  {
   "cell_type": "markdown",
   "metadata": {
    "id": "7hlHRBeB-whT"
   },
   "source": [
    "RANDOM FOREST REGRESSOR"
   ]
  },
  {
   "cell_type": "code",
   "execution_count": null,
   "metadata": {
    "colab": {
     "background_save": true,
     "base_uri": "https://localhost:8080/"
    },
    "id": "3hBHHyum-u_4",
    "outputId": "e98d0a1c-dcf8-4578-b5a1-39368975870f"
   },
   "outputs": [
    {
     "name": "stdout",
     "output_type": "stream",
     "text": [
      "Fitting 3 folds for each of 162 candidates, totalling 486 fits\n"
     ]
    }
   ],
   "source": [
    "from sklearn.ensemble import RandomForestRegressor\n",
    "\n",
    "# Initialize RandomForestRegressor\n",
    "rf = RandomForestRegressor()\n",
    "\n",
    "# Define parameter grid for RandomForest\n",
    "rf_param_grid = {\n",
    "    'n_estimators': [100, 200, 500],\n",
    "    'max_depth': [10, 20, 30],\n",
    "    'min_samples_split': [2, 5, 10],\n",
    "    'min_samples_leaf': [1, 2, 4],\n",
    "    'bootstrap': [True, False]\n",
    "}\n",
    "\n",
    "# Set up GridSearchCV for RandomForest\n",
    "grid_search = GridSearchCV(\n",
    "    estimator=rf,\n",
    "    param_grid=rf_param_grid,\n",
    "    cv=3,\n",
    "    scoring='neg_mean_squared_error',\n",
    "    n_jobs=-1,\n",
    "    verbose=2\n",
    ")\n",
    "\n",
    "# Fit GridSearchCV\n",
    "grid_search.fit(X_train, y_train)\n",
    "\n",
    "# Get the best estimator\n",
    "best_rf_model = grid_search.best_estimator_\n",
    "\n",
    "# Create and fit the model\n",
    "model = best_rf_model\n",
    "model.fit(X_train, y_train)\n",
    "\n",
    "# Make predictions\n",
    "preds = model.predict(X_valid)\n",
    "\n",
    "# Score\n",
    "rmse = mean_squared_error(y_valid, preds) ** 0.5\n",
    "print(f'Root Mean Squared Error (RandomForest): {rmse}')\n"
   ]
  },
  {
   "cell_type": "code",
   "execution_count": null,
   "metadata": {
    "id": "isI_-sfnzXED"
   },
   "outputs": [],
   "source": [
    "# Exercise. Try a RandomForestRegressor model. Use n_estimators=10 if the default takes too long to run, and experiment with the max_depth parameter."
   ]
  },
  {
   "cell_type": "markdown",
   "metadata": {},
   "source": [
    "## Ensemble Model"
   ]
  },
  {
   "cell_type": "code",
   "execution_count": null,
   "metadata": {},
   "outputs": [],
   "source": [
    "from sklearn.ensemble import VotingClassifier\n",
    "rf=best_rf_model\n",
    "cb=best_catboost_model\n",
    "xgb=best_xgb_model\n",
    "\n",
    "voting_clf=VotingClassifier(estimators=[('RandomForest',rf),\n",
    "                                        ('CatBoost',cb),\n",
    "                                        ('xgboost',xgb)\n",
    "                                       ],\n",
    "                           voting='hard')\n",
    "\n",
    "# Create and fit the model\n",
    "model = voting_clf\n",
    "model.fit(X_train, y_train)\n",
    "\n",
    "# Make predictions\n",
    "preds = model.predict(X_valid)\n",
    "\n",
    "# Score\n",
    "rmse = mean_squared_error(y_valid, preds) ** 0.5\n",
    "print(f'Root Mean Squared Error (RandomForest): {rmse}')\n",
    "\n"
   ]
  },
  {
   "cell_type": "markdown",
   "metadata": {
    "id": "Eq7DM0URkkai"
   },
   "source": [
    "# Making A Submission\n",
    "\n",
    "Once you've got some features and a model you're happy with, it's time to submit!"
   ]
  },
  {
   "cell_type": "code",
   "execution_count": null,
   "metadata": {
    "colab": {
     "base_uri": "https://localhost:8080/",
     "height": 206
    },
    "id": "bb8DdgWskqQs",
    "outputId": "5f05619b-8c19-49e9-d510-d954bdd5587f"
   },
   "outputs": [],
   "source": [
    "# Look at the sample submission file\n",
    "ss = pd.read_csv('https://raw.githubusercontent.com/GKamundia/Zindi/main/SampleSubmission.csv')\n",
    "ss.head()"
   ]
  },
  {
   "cell_type": "code",
   "execution_count": null,
   "metadata": {
    "colab": {
     "base_uri": "https://localhost:8080/",
     "height": 342
    },
    "id": "MlKjnZ8WkvaX",
    "outputId": "1db8b264-e165-4de0-c15e-d023ec1c24b2"
   },
   "outputs": [],
   "source": [
    "# And the test data\n",
    "test.head()"
   ]
  },
  {
   "cell_type": "code",
   "execution_count": null,
   "metadata": {
    "colab": {
     "base_uri": "https://localhost:8080/",
     "height": 206
    },
    "id": "HItSe6MCkyPB",
    "outputId": "e05dd9a1-5828-431d-aa05-d953e06f0d2b"
   },
   "outputs": [],
   "source": [
    "# So we need to predict the burn area for each row in test.\n",
    "\n",
    "# Add the same features to test as we did to train:\n",
    "test['month'] = test.date.dt.month\n",
    "test['year'] = test.date.dt.year\n",
    "\n",
    "# Get predictions\n",
    "preds = best_xgb_model.predict(test[in_cols].fillna(0)) # fillna(0) here could be improved by examining the missing data and filling more appropriately.\n",
    "\n",
    "# Add to submission dataframe\n",
    "ss['burn_area'] = preds\n",
    "\n",
    "# Depending on your model, you may have some predictions that don't make sense. Let's constrain our predictions to the range (0, 1)\n",
    "ss['burn_area'] = ss['burn_area'].clip(0, 1)\n",
    "\n",
    "# View\n",
    "ss.head()"
   ]
  },
  {
   "cell_type": "code",
   "execution_count": null,
   "metadata": {
    "id": "13Ns-f5blIEs"
   },
   "outputs": [],
   "source": [
    "# Save ready for submission:\n",
    "ss.to_csv('Third_submission.csv', index=False)"
   ]
  },
  {
   "cell_type": "markdown",
   "metadata": {
    "id": "OeyjG8-4mK7Y"
   },
   "source": [
    "# Tips for improving your score\n",
    "\n",
    "- Once you've chosen a model, you should re-train it on all the data (including that which you previously held back for validation) to give it the best chance of succeeding\n",
    "- There is a timeseries component to this challenge. Think about how to use this to improve your accuracy.\n",
    "- Spend some time on feature engineering. Since no external data is allowed for this challenge, the winning solution will be the one that gets the most out of the data provided."
   ]
  },
  {
   "cell_type": "code",
   "execution_count": null,
   "metadata": {
    "id": "yUuqtHNKnO3r"
   },
   "outputs": [],
   "source": []
  },
  {
   "cell_type": "code",
   "execution_count": null,
   "metadata": {
    "id": "9F_2aPYOtNs1"
   },
   "outputs": [],
   "source": []
  }
 ],
 "metadata": {
  "accelerator": "GPU",
  "colab": {
   "gpuType": "T4",
   "provenance": []
  },
  "kernelspec": {
   "display_name": "Python 3 (ipykernel)",
   "language": "python",
   "name": "python3"
  },
  "language_info": {
   "codemirror_mode": {
    "name": "ipython",
    "version": 3
   },
   "file_extension": ".py",
   "mimetype": "text/x-python",
   "name": "python",
   "nbconvert_exporter": "python",
   "pygments_lexer": "ipython3",
   "version": "3.10.0"
  }
 },
 "nbformat": 4,
 "nbformat_minor": 4
}
